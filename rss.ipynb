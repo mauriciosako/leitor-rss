{
 "cells": [
  {
   "cell_type": "code",
   "execution_count": 7,
   "metadata": {},
   "outputs": [],
   "source": [
    "import streamlit as st\n",
    "import feedparser"
   ]
  },
  {
   "cell_type": "code",
   "execution_count": 13,
   "metadata": {},
   "outputs": [],
   "source": [
    "# Função para ler o RSS\n",
    "def ler_rss(url_rss):\n",
    "    feed = feedparser.parse(url_rss)\n",
    "    noticias = []\n",
    "    for post in feed.entries:\n",
    "        noticias.append({\n",
    "            \"Título\": post.title,\n",
    "            \"Link\": post.link,\n",
    "            \"Descrição\": post.description\n",
    "        })\n",
    "    return noticias"
   ]
  },
  {
   "cell_type": "code",
   "execution_count": 16,
   "metadata": {},
   "outputs": [
    {
     "name": "stderr",
     "output_type": "stream",
     "text": [
      "2025-02-06 22:54:05.457 Thread 'MainThread': missing ScriptRunContext! This warning can be ignored when running in bare mode.\n",
      "2025-02-06 22:54:05.460 Thread 'MainThread': missing ScriptRunContext! This warning can be ignored when running in bare mode.\n",
      "2025-02-06 22:54:05.461 Thread 'MainThread': missing ScriptRunContext! This warning can be ignored when running in bare mode.\n",
      "2025-02-06 22:54:05.461 Thread 'MainThread': missing ScriptRunContext! This warning can be ignored when running in bare mode.\n",
      "2025-02-06 22:54:05.461 Thread 'MainThread': missing ScriptRunContext! This warning can be ignored when running in bare mode.\n",
      "2025-02-06 22:54:05.462 Thread 'MainThread': missing ScriptRunContext! This warning can be ignored when running in bare mode.\n",
      "2025-02-06 22:54:05.463 Thread 'MainThread': missing ScriptRunContext! This warning can be ignored when running in bare mode.\n",
      "2025-02-06 22:54:05.463 Thread 'MainThread': missing ScriptRunContext! This warning can be ignored when running in bare mode.\n",
      "2025-02-06 22:54:05.464 Thread 'MainThread': missing ScriptRunContext! This warning can be ignored when running in bare mode.\n",
      "2025-02-06 22:54:05.465 Thread 'MainThread': missing ScriptRunContext! This warning can be ignored when running in bare mode.\n",
      "2025-02-06 22:54:05.465 Thread 'MainThread': missing ScriptRunContext! This warning can be ignored when running in bare mode.\n",
      "2025-02-06 22:54:05.466 Thread 'MainThread': missing ScriptRunContext! This warning can be ignored when running in bare mode.\n",
      "2025-02-06 22:54:05.467 Thread 'MainThread': missing ScriptRunContext! This warning can be ignored when running in bare mode.\n"
     ]
    }
   ],
   "source": [
    "# Lista de RSS\n",
    "urls_rss = {\n",
    "    \"InfoMoney\": \"https://www.infomoney.com.br/feed/\",\n",
    "    \"Exame\": \"https://exame.com/feed/\"\n",
    "}\n",
    "\n",
    "# Interface com Streamlit\n",
    "st.title(\"📢 Leitor de Notícias RSS\")\n",
    "\n",
    "# Escolher fonte RSS\n",
    "opcao = st.selectbox(\"Escolha um site:\", list(urls_rss.keys()))\n",
    "\n",
    "# Botão para carregar\n",
    "if st.button(\"Carregar Notícias\"):\n",
    "    noticias = ler_rss(urls_rss[opcao])\n",
    "    for noticia in noticias:\n",
    "        st.subheader(noticia[\"Título\"])\n",
    "        st.write(noticia[\"Descrição\"])\n",
    "        st.markdown(f\"[Leia mais]({noticia['Link']})\")\n",
    "        st.write(\"---\")"
   ]
  }
 ],
 "metadata": {
  "kernelspec": {
   "display_name": "Python 3",
   "language": "python",
   "name": "python3"
  },
  "language_info": {
   "codemirror_mode": {
    "name": "ipython",
    "version": 3
   },
   "file_extension": ".py",
   "mimetype": "text/x-python",
   "name": "python",
   "nbconvert_exporter": "python",
   "pygments_lexer": "ipython3",
   "version": "3.13.1"
  }
 },
 "nbformat": 4,
 "nbformat_minor": 2
}
